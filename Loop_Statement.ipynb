{
  "nbformat": 4,
  "nbformat_minor": 0,
  "metadata": {
    "colab": {
      "name": "Loop_Statement.ipynb",
      "provenance": [],
      "authorship_tag": "ABX9TyPwumgi8ksSlt7toyci5dg+",
      "include_colab_link": true
    },
    "kernelspec": {
      "name": "python3",
      "display_name": "Python 3"
    },
    "language_info": {
      "name": "python"
    }
  },
  "cells": [
    {
      "cell_type": "markdown",
      "metadata": {
        "id": "view-in-github",
        "colab_type": "text"
      },
      "source": [
        "<a href=\"https://colab.research.google.com/github/Viado03/CPEN21A-1-2-BSCPE/blob/main/Loop_Statement.ipynb\" target=\"_parent\"><img src=\"https://colab.research.google.com/assets/colab-badge.svg\" alt=\"Open In Colab\"/></a>"
      ]
    },
    {
      "cell_type": "markdown",
      "source": [
        "###For Loop"
      ],
      "metadata": {
        "id": "4qnVLE367DYe"
      }
    },
    {
      "cell_type": "code",
      "source": [
        "week = [\"Sunday\", \"Monday\", \"Tuesday\", \"Wednesday\", \"Thursday\", \"Friday\", \"Sunday\"]\n",
        "\n",
        "for x in week :\n",
        "  print(x)"
      ],
      "metadata": {
        "colab": {
          "base_uri": "https://localhost:8080/"
        },
        "id": "dgFnvJ907Gtm",
        "outputId": "59ffaa8b-5675-4f11-c4d4-bf7b0f37487a"
      },
      "execution_count": 1,
      "outputs": [
        {
          "output_type": "stream",
          "name": "stdout",
          "text": [
            "Sunday\n",
            "Monday\n",
            "Tuesday\n",
            "Wednesday\n",
            "Thursday\n",
            "Friday\n",
            "Sunday\n"
          ]
        }
      ]
    },
    {
      "cell_type": "markdown",
      "source": [
        "###The Break Statement"
      ],
      "metadata": {
        "id": "IJY3ZWUm7q3v"
      }
    },
    {
      "cell_type": "code",
      "source": [
        "for x in week :\n",
        "  if x==\"Wednesday\" :\n",
        "    break\n",
        "  print(x)"
      ],
      "metadata": {
        "colab": {
          "base_uri": "https://localhost:8080/"
        },
        "id": "n8CXD4Zx7tk2",
        "outputId": "98c1b2a8-5b94-4b6e-ab86-3ef5d7a37857"
      },
      "execution_count": 5,
      "outputs": [
        {
          "output_type": "stream",
          "name": "stdout",
          "text": [
            "Sunday\n",
            "Monday\n",
            "Tuesday\n"
          ]
        }
      ]
    },
    {
      "cell_type": "code",
      "source": [
        "for x in week :\n",
        "  print(x)\n",
        "  if x==\"Friday\" :\n",
        "    break"
      ],
      "metadata": {
        "colab": {
          "base_uri": "https://localhost:8080/"
        },
        "id": "lGAbbw5i9PqO",
        "outputId": "297af760-c18c-495b-d785-6965f453d90b"
      },
      "execution_count": 13,
      "outputs": [
        {
          "output_type": "stream",
          "name": "stdout",
          "text": [
            "Sunday\n",
            "Monday\n",
            "Tuesday\n",
            "Wednesday\n",
            "Thursday\n",
            "Friday\n"
          ]
        }
      ]
    },
    {
      "cell_type": "markdown",
      "source": [
        "###Looping Through String"
      ],
      "metadata": {
        "id": "MlMYmbBc9d0N"
      }
    },
    {
      "cell_type": "code",
      "source": [
        "for x in \"Python loves you\" :\n",
        "  print(x)"
      ],
      "metadata": {
        "colab": {
          "base_uri": "https://localhost:8080/"
        },
        "id": "luEiS5lw9jgm",
        "outputId": "302c4eb5-f83f-4b1f-db9c-124ba19fd3ce"
      },
      "execution_count": 15,
      "outputs": [
        {
          "output_type": "stream",
          "name": "stdout",
          "text": [
            "P\n",
            "y\n",
            "t\n",
            "h\n",
            "o\n",
            "n\n",
            " \n",
            "l\n",
            "o\n",
            "v\n",
            "e\n",
            "s\n",
            " \n",
            "y\n",
            "o\n",
            "u\n"
          ]
        }
      ]
    },
    {
      "cell_type": "markdown",
      "source": [
        "###The Range Function"
      ],
      "metadata": {
        "id": "l6U2ECt7-M81"
      }
    },
    {
      "cell_type": "code",
      "source": [
        "for x in range(15) :\n",
        "  print(x)"
      ],
      "metadata": {
        "colab": {
          "base_uri": "https://localhost:8080/"
        },
        "id": "dZ9aDIaN-Qtm",
        "outputId": "b4ad1e54-4e98-4e2d-c69c-2fb5032b4e01"
      },
      "execution_count": 18,
      "outputs": [
        {
          "output_type": "stream",
          "name": "stdout",
          "text": [
            "0\n",
            "1\n",
            "2\n",
            "3\n",
            "4\n",
            "5\n",
            "6\n",
            "7\n",
            "8\n",
            "9\n",
            "10\n",
            "11\n",
            "12\n",
            "13\n",
            "14\n"
          ]
        }
      ]
    },
    {
      "cell_type": "markdown",
      "source": [
        "###Nested Loops\n"
      ],
      "metadata": {
        "id": "5i6JB6t1-qOe"
      }
    },
    {
      "cell_type": "code",
      "source": [
        "adjective = [\"nice\", \"cool\", \"awesome\"]\n",
        "computer = [\"keyboard\", \"monitor\", \"headset\"]\n",
        "\n",
        "for x in adjective:\n",
        "  for y in computer:\n",
        "    print(x,y)"
      ],
      "metadata": {
        "colab": {
          "base_uri": "https://localhost:8080/"
        },
        "id": "b1h2sjrl-tud",
        "outputId": "b513acf8-5bd3-41fb-e63b-d3bda2c0284c"
      },
      "execution_count": 23,
      "outputs": [
        {
          "output_type": "stream",
          "name": "stdout",
          "text": [
            "nice keyboard\n",
            "nice monitor\n",
            "nice headset\n",
            "cool keyboard\n",
            "cool monitor\n",
            "cool headset\n",
            "awesome keyboard\n",
            "awesome monitor\n",
            "awesome headset\n"
          ]
        }
      ]
    },
    {
      "cell_type": "markdown",
      "source": [
        "###While Loops"
      ],
      "metadata": {
        "id": "QZdReRVKBLoe"
      }
    },
    {
      "cell_type": "code",
      "source": [
        "i = 10 \n",
        "while i>6 :\n",
        "  print(i)\n",
        "  i-=1 #For subraction, i= i-1"
      ],
      "metadata": {
        "colab": {
          "base_uri": "https://localhost:8080/"
        },
        "id": "OBLYvCEHBPVe",
        "outputId": "6b5eea97-c47d-450e-da63-7e69e10344ca"
      },
      "execution_count": 26,
      "outputs": [
        {
          "output_type": "stream",
          "name": "stdout",
          "text": [
            "10\n",
            "9\n",
            "8\n",
            "7\n"
          ]
        }
      ]
    },
    {
      "cell_type": "markdown",
      "source": [
        "###The continue statement"
      ],
      "metadata": {
        "id": "I_NYFLIfB_e3"
      }
    },
    {
      "cell_type": "code",
      "source": [
        "i = 10\n",
        "while i>6 :\n",
        "  i=i-1\n",
        "  if i==9 :\n",
        "    continue\n",
        "  print(i)"
      ],
      "metadata": {
        "colab": {
          "base_uri": "https://localhost:8080/"
        },
        "id": "-JOca-6JCH6D",
        "outputId": "84bfbc8f-39b1-4fcd-80dc-ddf907df1335"
      },
      "execution_count": 28,
      "outputs": [
        {
          "output_type": "stream",
          "name": "stdout",
          "text": [
            "8\n",
            "7\n",
            "6\n"
          ]
        }
      ]
    },
    {
      "cell_type": "markdown",
      "source": [
        "###The Break Statement"
      ],
      "metadata": {
        "id": "gJqOyku-Cfdx"
      }
    },
    {
      "cell_type": "code",
      "source": [
        "i = 10\n",
        "while i>5:\n",
        "  print(i)\n",
        "  if i==7:\n",
        "    break\n",
        "  i-=1"
      ],
      "metadata": {
        "colab": {
          "base_uri": "https://localhost:8080/"
        },
        "id": "Upxn1d7IChjR",
        "outputId": "fd0b952c-863b-4a0f-a79f-2c1484f37942"
      },
      "execution_count": 29,
      "outputs": [
        {
          "output_type": "stream",
          "name": "stdout",
          "text": [
            "10\n",
            "9\n",
            "8\n",
            "7\n"
          ]
        }
      ]
    },
    {
      "cell_type": "markdown",
      "source": [
        "###The Else statement"
      ],
      "metadata": {
        "id": "cPFf7tCFCsoX"
      }
    },
    {
      "cell_type": "code",
      "source": [
        "i = 10\n",
        "while i>5:\n",
        "  i=i-1\n",
        "  print(i)\n",
        "else:\n",
        "  print(\"i is no longer greater than 5\")"
      ],
      "metadata": {
        "colab": {
          "base_uri": "https://localhost:8080/"
        },
        "id": "vgYkDUtoCyZO",
        "outputId": "e19631b3-a750-457b-c073-53ab60303208"
      },
      "execution_count": 30,
      "outputs": [
        {
          "output_type": "stream",
          "name": "stdout",
          "text": [
            "9\n",
            "8\n",
            "7\n",
            "6\n",
            "5\n",
            "i is no longer greater than 5\n"
          ]
        }
      ]
    },
    {
      "cell_type": "markdown",
      "source": [
        "###Application 1"
      ],
      "metadata": {
        "id": "bz0aDJ0CC5OV"
      }
    },
    {
      "cell_type": "code",
      "source": [
        "a = [\"Value\"]\n",
        "b = [\"0\", \"1\", \"2\", \"3\", \"4\", \"5\", \"6\", \"7\", \"8\", \"9\", \"10\"]\n",
        "for x in a:\n",
        "  for y in b:\n",
        "    print(x,y)      #For loop"
      ],
      "metadata": {
        "colab": {
          "base_uri": "https://localhost:8080/"
        },
        "id": "I0KrG6UXC8Id",
        "outputId": "9319f526-2ca9-4fba-fcb3-585eecd22126"
      },
      "execution_count": 31,
      "outputs": [
        {
          "output_type": "stream",
          "name": "stdout",
          "text": [
            "Value 0\n",
            "Value 1\n",
            "Value 2\n",
            "Value 3\n",
            "Value 4\n",
            "Value 5\n",
            "Value 6\n",
            "Value 7\n",
            "Value 8\n",
            "Value 9\n",
            "Value 10\n"
          ]
        }
      ]
    },
    {
      "cell_type": "code",
      "source": [
        "b = -1\n",
        "c = \"Value\"\n",
        "while b<15:\n",
        "  b+=1\n",
        "  print(c, b)\n",
        "  if b==10:\n",
        "    break #While loop"
      ],
      "metadata": {
        "colab": {
          "base_uri": "https://localhost:8080/"
        },
        "id": "SiZwzvbvDC_1",
        "outputId": "61e958c8-5b1f-4116-8ee5-f2a99d890c88"
      },
      "execution_count": 33,
      "outputs": [
        {
          "output_type": "stream",
          "name": "stdout",
          "text": [
            "Value 0\n",
            "Value 1\n",
            "Value 2\n",
            "Value 3\n",
            "Value 4\n",
            "Value 5\n",
            "Value 6\n",
            "Value 7\n",
            "Value 8\n",
            "Value 9\n",
            "Value 10\n"
          ]
        }
      ]
    },
    {
      "cell_type": "markdown",
      "source": [
        "###Application 2"
      ],
      "metadata": {
        "id": "aW1xp1HJDRbm"
      }
    },
    {
      "cell_type": "code",
      "source": [
        "i = 25\n",
        "while i>2:\n",
        "  i-=1\n",
        "  print(i)\n",
        "  if i==4:\n",
        "    break\n",
        "#else:\n",
        "    #print (\"i is no longer greater than 3\")"
      ],
      "metadata": {
        "colab": {
          "base_uri": "https://localhost:8080/"
        },
        "id": "RkMaR2P7DTCN",
        "outputId": "040af368-05f6-4aca-aa9d-61ce438b05ca"
      },
      "execution_count": 36,
      "outputs": [
        {
          "output_type": "stream",
          "name": "stdout",
          "text": [
            "24\n",
            "23\n",
            "22\n",
            "21\n",
            "20\n",
            "19\n",
            "18\n",
            "17\n",
            "16\n",
            "15\n",
            "14\n",
            "13\n",
            "12\n",
            "11\n",
            "10\n",
            "9\n",
            "8\n",
            "7\n",
            "6\n",
            "5\n",
            "4\n"
          ]
        }
      ]
    }
  ]
}