{
  "nbformat": 4,
  "nbformat_minor": 0,
  "metadata": {
    "colab": {
      "name": "Control_Structure.ipynb",
      "provenance": [],
      "authorship_tag": "ABX9TyMC+FJS3jLUdDAwOAwks2oh",
      "include_colab_link": true
    },
    "kernelspec": {
      "name": "python3",
      "display_name": "Python 3"
    },
    "language_info": {
      "name": "python"
    }
  },
  "cells": [
    {
      "cell_type": "markdown",
      "metadata": {
        "id": "view-in-github",
        "colab_type": "text"
      },
      "source": [
        "<a href=\"https://colab.research.google.com/github/Viado03/CPEN21A-1-2-BSCPE/blob/main/Control_Structure.ipynb\" target=\"_parent\"><img src=\"https://colab.research.google.com/assets/colab-badge.svg\" alt=\"Open In Colab\"/></a>"
      ]
    },
    {
      "cell_type": "markdown",
      "metadata": {
        "id": "9eg-O4SGu-0H"
      },
      "source": [
        "###IF STATEMENT"
      ]
    },
    {
      "cell_type": "code",
      "metadata": {
        "colab": {
          "base_uri": "https://localhost:8080/"
        },
        "id": "jTTCq9dqvG4u",
        "outputId": "8e173043-629c-47fe-8d64-7b3c3e8c5f26"
      },
      "source": [
        "a=14\n",
        "b=100\n",
        "print(\"b is greater than a\")"
      ],
      "execution_count": 1,
      "outputs": [
        {
          "output_type": "stream",
          "name": "stdout",
          "text": [
            "b is greater than a\n"
          ]
        }
      ]
    },
    {
      "cell_type": "markdown",
      "metadata": {
        "id": "bUdPVPLBvSS-"
      },
      "source": [
        "###ELIF STATEMENT"
      ]
    },
    {
      "cell_type": "code",
      "metadata": {
        "colab": {
          "base_uri": "https://localhost:8080/"
        },
        "id": "hs0wDpwBvVjm",
        "outputId": "896ecb50-cb8a-4226-fe7d-5dcd0fe0f2ae"
      },
      "source": [
        "a=14\n",
        "b=100\n",
        "if b>a:\n",
        "  print(\"b is greater than a\")\n",
        "elif a>b:\n",
        "  print(\"a is greater than b\")\n",
        "elif a==b:\n",
        "  print(\"a is equal b\")\n",
        "else :\n",
        "  print(\"error\")"
      ],
      "execution_count": 4,
      "outputs": [
        {
          "output_type": "stream",
          "name": "stdout",
          "text": [
            "b is greater than a\n"
          ]
        }
      ]
    },
    {
      "cell_type": "markdown",
      "metadata": {
        "id": "53s5kL3OwMev"
      },
      "source": [
        "###Short Hand Statement"
      ]
    },
    {
      "cell_type": "code",
      "metadata": {
        "colab": {
          "base_uri": "https://localhost:8080/"
        },
        "id": "yGNvU0FZwR5l",
        "outputId": "b31c99bd-e0e9-4bf5-cd59-38e8f2e6a0ce"
      },
      "source": [
        "a=32\n",
        "b=45\n",
        "\n",
        "print(\"a is greater than b\") if a>b else print(\"b is greater than a\")"
      ],
      "execution_count": 5,
      "outputs": [
        {
          "output_type": "stream",
          "name": "stdout",
          "text": [
            "b is greater than a\n"
          ]
        }
      ]
    },
    {
      "cell_type": "markdown",
      "metadata": {
        "id": "iFZGZQDOwuJH"
      },
      "source": [
        "###Logic Condition"
      ]
    },
    {
      "cell_type": "code",
      "metadata": {
        "colab": {
          "base_uri": "https://localhost:8080/"
        },
        "id": "jt8li5jCwwlv",
        "outputId": "2aca52dd-b3a1-46f2-e7b0-3664d55c1bbb"
      },
      "source": [
        "x=7\n",
        "\n",
        "if x>4 and x>6:\n",
        "  print('both condition are true')"
      ],
      "execution_count": 6,
      "outputs": [
        {
          "output_type": "stream",
          "name": "stdout",
          "text": [
            "both condition are true\n"
          ]
        }
      ]
    },
    {
      "cell_type": "markdown",
      "metadata": {
        "id": "I2gmbPpcxJqg"
      },
      "source": [
        "###Logic"
      ]
    },
    {
      "cell_type": "code",
      "metadata": {
        "colab": {
          "base_uri": "https://localhost:8080/"
        },
        "id": "P2gsUr2QxZlQ",
        "outputId": "04bb1d8e-62ca-4bbe-bc07-284755e56faa"
      },
      "source": [
        "x=41\n",
        "\n",
        "if x>30 or x<40 :\n",
        "  print(\"true\")\n",
        "else :\n",
        "  print(\"false\")"
      ],
      "execution_count": 7,
      "outputs": [
        {
          "output_type": "stream",
          "name": "stdout",
          "text": [
            "true\n"
          ]
        }
      ]
    },
    {
      "cell_type": "code",
      "metadata": {
        "colab": {
          "base_uri": "https://localhost:8080/"
        },
        "id": "qkeyJ7q5xwzv",
        "outputId": "b80193ff-10b5-4f4d-fffc-99f0c496aaef"
      },
      "source": [
        "if x>10 :\n",
        "  print(\"above 10\")\n",
        "elif x<10 :\n",
        "  print(\"below 10\")\n",
        "else :\n",
        "  print(\"error\")"
      ],
      "execution_count": 13,
      "outputs": [
        {
          "output_type": "stream",
          "name": "stdout",
          "text": [
            "above 10\n"
          ]
        }
      ]
    },
    {
      "cell_type": "markdown",
      "metadata": {
        "id": "cDsU-hLOz6Q4"
      },
      "source": [
        "###Example age (1)"
      ]
    },
    {
      "cell_type": "code",
      "metadata": {
        "colab": {
          "base_uri": "https://localhost:8080/",
          "height": 90
        },
        "id": "tq1dFVJhzE7g",
        "outputId": "a07ee6d4-0abe-4941-db22-dbcf2ebd6930"
      },
      "source": [
        "age =int(input(\"enter age\"))\n",
        "\n",
        "if age>=60 and age<=100 :\n",
        "  print(\"senior\")\n",
        "\n",
        "elif age>=40 and age<=59 :\n",
        "  print(\"middle\")\n",
        "\n",
        "elif age>=20 and age<=39 : \n",
        "    print(\"starter\")\n",
        "\n",
        "elif age>=0 and age<=19 :\n",
        "    print(\"child\")\n",
        "    \n",
        "else :\n",
        "  print(\"error\")\n",
        "\n",
        "input('Press ENTER to exit')"
      ],
      "execution_count": 15,
      "outputs": [
        {
          "name": "stdout",
          "output_type": "stream",
          "text": [
            "enter age30\n",
            "starter\n",
            "Press ENTER to exit\n"
          ]
        },
        {
          "output_type": "execute_result",
          "data": {
            "application/vnd.google.colaboratory.intrinsic+json": {
              "type": "string"
            },
            "text/plain": [
              "''"
            ]
          },
          "metadata": {},
          "execution_count": 15
        }
      ]
    },
    {
      "cell_type": "markdown",
      "metadata": {
        "id": "JnkIX1y70BiI"
      },
      "source": [
        "###Example Grade (2)"
      ]
    },
    {
      "cell_type": "code",
      "metadata": {
        "colab": {
          "base_uri": "https://localhost:8080/",
          "height": 90
        },
        "id": "gCGkPCUrzu1I",
        "outputId": "6f13e09e-0fa5-44d5-9ca4-5ca26dae5739"
      },
      "source": [
        "num1 =int(input(\"enter grade:\"))\n",
        "\n",
        "if num1>=70 and num1<=100 :\n",
        "    print(\"passed\")\n",
        "elif num1<=69 :\n",
        "    print(\"failed\")\n",
        "else     :\n",
        "    print(\"error\")\n",
        "    \n",
        "input('Press ENTER to exit')"
      ],
      "execution_count": 16,
      "outputs": [
        {
          "name": "stdout",
          "output_type": "stream",
          "text": [
            "enter grade:76\n",
            "passed\n",
            "Press ENTER to exit\n"
          ]
        },
        {
          "output_type": "execute_result",
          "data": {
            "application/vnd.google.colaboratory.intrinsic+json": {
              "type": "string"
            },
            "text/plain": [
              "''"
            ]
          },
          "metadata": {},
          "execution_count": 16
        }
      ]
    }
  ]
}